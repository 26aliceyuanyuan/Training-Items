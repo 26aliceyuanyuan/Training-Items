{
 "cells": [
  {
   "cell_type": "code",
   "execution_count": 1,
   "metadata": {},
   "outputs": [],
   "source": [
    "from requests import request\n",
    "from bs4 import BeautifulSoup\n",
    "import time\n",
    "import re"
   ]
  },
  {
   "cell_type": "code",
   "execution_count": 2,
   "metadata": {},
   "outputs": [],
   "source": [
    "#get Href from web\n",
    "def acquirehref(href):\n",
    "    return request('GET', href).text"
   ]
  },
  {
   "cell_type": "code",
   "execution_count": 3,
   "metadata": {},
   "outputs": [],
   "source": [
    "def format(text):\n",
    "    while(text.find(\"  \")>=0):\n",
    "        text=text.replace(\"  \",\" \")\n",
    "    while(text.find(\"\\n\\n\")>=0):\n",
    "        text=text.replace(\"\\n\\n\",\"\\n\")\n",
    "    return text"
   ]
  },
  {
   "cell_type": "code",
   "execution_count": 4,
   "metadata": {},
   "outputs": [],
   "source": [
    "#To get clean txt\n",
    "h=open('./hrefs.txt','w')\n",
    "h.write('')\n",
    "h.close()\n",
    "res=open('./newsinfo.txt','w')\n",
    "res.write('')\n",
    "res.close()"
   ]
  },
  {
   "cell_type": "code",
   "execution_count": null,
   "metadata": {},
   "outputs": [
    {
     "name": "stdout",
     "output_type": "stream",
     "text": [
      "\n",
      "This is 2 news.The title is: «это пустая трата времени»: трамп призвал остановить пересчёт голосов в джорджии. The author is:\n",
      " сергей гусаров\n",
      " . The abastract is: президент сша дональд трамп призвал остановить пересчёт голосов в штате джорджия до тех пор, пока избирательные комиссии не начнут сверять подписи избирателей. действующий глава белого дома выступил ещё с несколькими заявлениями, в которых он рассказал, в частности, о наличии доказательств недопуска наблюдателей от республиканской партии к процессу подсчёта голосов. вместе с тем ранее трамп допустил, что следующую американскую администрацию, возможно, возглавит не он.\n",
      "\n",
      "This is 3 news.The title is: «понимание неотвратимости возмездия»: почему в сша обеспокоились ядерной доктриной россии. The author is:\n",
      " алексей латышев,\n",
      " елизавета комарова,\n",
      " анастасия румянцева\n",
      " . The abastract is: в вашингтоне обеспокоены «ядерной политикой» россии, в частности разработкой ею необитаемых подводных аппаратов «посейдон». об этом говорится в докладе помощника госсекретаря сша кристофера форда. так, он выразил сомнение в том, насколько данное оружие «может быть использовано в соответствии с применимыми международными правовыми нормами». кроме того, форд высказал опасения относительно наличия у россии комплекса автоматического управления ответным ядерным ударом «периметр». по мнению экспертов, такие заявления в вашингтоне выглядят надуманными, поскольку «посейдон» и «периметр» — инструменты ядерного сдерживания, обеспечивающие неотвратимость возмездия, и не предназначены для нападения. аналитики добавляют, что именно сша, выйдя из договора по про и других международных соглашений, понизили уровень стратегической стабильности и безопасности в мире.\n",
      "\n",
      "This is 4 news.The title is: в рамках национальных интересов: в сша считают полноценное введение стандартов ес на украине нежелательным. The author is:\n",
      " ксения калинкина\n",
      " . The abastract is: в министерстве сельского хозяйства сша полагают, что полноценное введение на украине европейских стандартов качества продукции может негативно отразиться на интересах вашингтона. как уточняется в документе, с которым ознакомился rt, в случае реализации такого сценария не исключено, что соединённые штаты потеряют часть рынка. вашингтон намерен «помочь» киеву приводить регулятивные меры в соответствие с европейскими таким образом, чтобы при этом не страдали американские торговые интересы. по мнению экспертов, сша хотят сохранить местный рынок сбыта и последовательно подчиняют украину глобальному стратегическому видению продовольственной безопасности на европейском континенте.\n",
      "\n",
      "This is 5 news.The title is: «это не устранит все проблемы»: как могут измениться отношения сша и ес после прихода к власти байдена. The author is:\n",
      " алексей латышев,\n",
      " елизавета комарова\n",
      " . The abastract is: за последние годы в американском обществе произошли изменения, которые сохранятся и после прихода к власти джо байдена и будут оказывать влияние на отношения сша и ес. об этом заявил верховный представитель евросоюза по иностранным делам и политике безопасности жозеп боррель. он считает, что в этих условиях евросоюз должен иметь возможность самостоятельно отстаивать свои интересы. по мнению экспертов, при байдене тональность в отношениях ес и сша смягчится, однако возобновить партнёрство в прежнем формате сторонам вряд ли удастся из-за наличия серьёзных разногласий по ряду вопросов и неопределённой обстановки в самих соединённых штатах.\n",
      "\n",
      "This is 6 news.The title is: автоматизированный инструмент: пентагон создаст программу обнаружения «онлайн-кампаний геополитического влияния». The author is:\n",
      " юлия гуреева,\n",
      " кирилл горшенин\n",
      " . The abastract is: пентагон намерен создать и запустить новую автоматизированную программу для обнаружения «онлайн-кампаний по расширению геополитического влияния», отмечается в документе ведомства, с текстом которого ознакомился rt. для выявления таких кампаний американские специалисты планируют анализировать не только демографические данные пользователей, но и психографические — взгляды, убеждения, моральные устои и ценности. по мнению экспертов, использование подобной системы в случае её успешного создания приведёт к нарушениям прав человека. они также отмечают, что вашингтон может воспользоваться накопленной информацией для осуществления собственных операций в киберпространстве.\n",
      "\n",
      "This is 7 news.The title is: «народ нашей страны сделал свой выбор»: байден обратился к американской нации. The author is:\n",
      " rt\n",
      " . The abastract is: кандидат в президенты сша джо байден обратился к американской нации. ранее он заявил о своей победе на выборах. ряд сми также сообщили, что байден набирает необходимое число голосов коллегии выборщиков. при этом его оппонент дональд трамп уже заявил, что байден «торопится незаслуженно выдать себя за победителя». rt вёл прямую трансляцию.\n"
     ]
    }
   ],
   "source": [
    "for j in range(0,24*60*60):\n",
    "    h=open('./hrefs.txt','r')\n",
    "    h.close()\n",
    "    htmltext=acquirehref( 'https://russian.rt.com/trend/335110-ssha')\n",
    "    BeautS=BeautifulSoup(htmltext,'lxml')\n",
    "    BeautS.encoding = 'utf-8' \n",
    "    itemsnews=BeautS.findAll('div',{'class':'card__heading card__heading_all-new'})\n",
    "    #print(itemsnews)\n",
    "    h=open('./hrefs.txt','a+')\n",
    "    res=open('./newsinfo.txt','a+')\n",
    "    hrefs=h.read().split('\\n')\n",
    "    total=len(hrefs)\n",
    "    #print(itemsnews)\n",
    "    for itemnews in itemsnews:\n",
    "        href=BeautifulSoup(str(itemnews),'lxml')\n",
    "        href=href.find('a') \n",
    "        link=href.get('href')\n",
    "        if(link.find('https')==-1):\n",
    "            link='https://russian.rt.com/'+link\n",
    "        if not (link in itemnews):\n",
    "            h.write(link+'\\n')\n",
    "            if (link.find('https://russian.rt.com/'))>=0:\n",
    "                BeautS=BeautifulSoup(acquirehref(link),'lxml')\n",
    "                BeautS.encoding = 'utf-8' \n",
    "                for tag in BeautS.find_all('div', class_='article article_article-page'):  \n",
    "                    title = tag.find('h1',class_=\"article__heading article__heading_article-page\").get_text()\n",
    "                    title=format(title.lower())\n",
    "                #author=BeautS.find('div', {'class':'author-name'}).text if BeautS.find('div', {'class':'author-name'})!=None else\"\"\n",
    "                for tag in BeautS.find_all('div', class_='article article_article-page'):  \n",
    "                    abstract = tag.find('div',class_=\"article__summary article__summary_article-page js-mediator-article\").get_text()\n",
    "                    abstract=format(abstract.lower())\n",
    "                for tag in BeautS.find_all('div', class_='article__date-autor-shortcode article__date-author-shortcode_article-page'):  \n",
    "                    author = tag.find('div',class_=\"article__author article__author_article-page article__author_with-label\").get_text()if tag.find('div',class_=\"article__author article__author_article-page article__author_with-label\").get_text()!=None else\"\"\n",
    "                    author=format(author.lower())\n",
    "                total+=1\n",
    "                res=open('./newsinfo.txt','a+', encoding='utf-8')\n",
    "                print('\\n'+'This is '+str(total)+' news.The title is: '+title+'. The author is:'+author+'. The abastract is: '+abstract)\n",
    "                res.write('\\n'+'This is '+str(total)+' news.The title is: '+title+'. The author is:'+author+'. The abastract is: '+abstract)\n",
    "    res.close()\n",
    "    h.close()\n",
    "    time.sleep(20)"
   ]
  },
  {
   "cell_type": "code",
   "execution_count": null,
   "metadata": {},
   "outputs": [],
   "source": []
  }
 ],
 "metadata": {
  "kernelspec": {
   "display_name": "Python 3",
   "language": "python",
   "name": "python3"
  },
  "language_info": {
   "codemirror_mode": {
    "name": "ipython",
    "version": 3
   },
   "file_extension": ".py",
   "mimetype": "text/x-python",
   "name": "python",
   "nbconvert_exporter": "python",
   "pygments_lexer": "ipython3",
   "version": "3.7.3"
  },
  "varInspector": {
   "cols": {
    "lenName": 16,
    "lenType": 16,
    "lenVar": 40
   },
   "kernels_config": {
    "python": {
     "delete_cmd_postfix": "",
     "delete_cmd_prefix": "del ",
     "library": "var_list.py",
     "varRefreshCmd": "print(var_dic_list())"
    },
    "r": {
     "delete_cmd_postfix": ") ",
     "delete_cmd_prefix": "rm(",
     "library": "var_list.r",
     "varRefreshCmd": "cat(var_dic_list()) "
    }
   },
   "types_to_exclude": [
    "module",
    "function",
    "builtin_function_or_method",
    "instance",
    "_Feature"
   ],
   "window_display": true
  }
 },
 "nbformat": 4,
 "nbformat_minor": 2
}

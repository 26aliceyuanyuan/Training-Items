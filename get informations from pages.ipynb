{
 "cells": [
  {
   "cell_type": "code",
   "execution_count": 1,
   "metadata": {},
   "outputs": [],
   "source": [
    "import requests \n",
    "from bs4 import BeautifulSoup\n",
    "import re\n",
    "import os.path"
   ]
  },
  {
   "cell_type": "code",
   "execution_count": 2,
   "metadata": {},
   "outputs": [],
   "source": [
    "#input the address of the website \n",
    "url=\"https://russian.rt.com/world/article/705508-b-52-iran-ssha\"\n",
    "res = requests.get(url)\n",
    "res.encoding = 'utf-8'  # \n",
    "soup = BeautifulSoup(res.text, 'lxml')"
   ]
  },
  {
   "cell_type": "code",
   "execution_count": 3,
   "metadata": {},
   "outputs": [
    {
     "name": "stdout",
     "output_type": "stream",
     "text": [
      "«Война слов и угроз»: СМИ сообщили о переброске стратегических бомбардировщиков США ближе к Ирану\n"
     ]
    }
   ],
   "source": [
    "#get the title\n",
    "#print(soup.title.text)\n",
    "for tag in soup.find_all('div', class_='article article_article-page'):  \n",
    "    title = tag.find('h1',class_=\"article__heading article__heading_article-page\").get_text()      \n",
    "    print(title)"
   ]
  },
  {
   "cell_type": "code",
   "execution_count": 4,
   "metadata": {},
   "outputs": [
    {
     "name": "stdout",
     "output_type": "stream",
     "text": [
      "Американские СМИ сообщили о том, что США начали переброску стратегических бомбардировщиков B-52 на базу на острове Диего-Гарсия в Индийском океане. Решение было принято на фоне эскалации напряжённости в отношениях с Ираном после гибели иранского генерала Касема Сулеймани в результате американского авиаудара. Также отмечается, что Пентагон намерен направить на Ближний Восток ещё 200 военнослужащих. Эксперты полагают, что обе стороны конфликта хотят продемонстрировать свою готовность к вооружённому противостоянию, но в то же время не заинтересованы в развязывании войны.\n"
     ]
    }
   ],
   "source": [
    "#get the abstract\n",
    "for tag in soup.find_all('div', class_='article article_article-page'):  \n",
    "    abstract = tag.find('div',class_=\"article__summary article__summary_article-page js-mediator-article\").get_text()      \n",
    "    print(abstract)"
   ]
  },
  {
   "cell_type": "code",
   "execution_count": 5,
   "metadata": {},
   "outputs": [
    {
     "name": "stdout",
     "output_type": "stream",
     "text": [
      "\n",
      "                                    Наталия Сергиевская,\n",
      "                                    Кирилл Горшенин\n",
      "                            \n"
     ]
    }
   ],
   "source": [
    "#get the author\n",
    "#m_author = re.findall(html_author,context,re.S|re.M)  \n",
    "for tag in soup.find_all('div', class_='article__date-autor-shortcode article__date-author-shortcode_article-page'):  \n",
    "    author = tag.find('div',class_=\"article__author article__author_article-page article__author_with-label\").get_text()      \n",
    "    print(author)"
   ]
  },
  {
   "cell_type": "code",
   "execution_count": null,
   "metadata": {},
   "outputs": [],
   "source": []
  }
 ],
 "metadata": {
  "kernelspec": {
   "display_name": "Python 3",
   "language": "python",
   "name": "python3"
  },
  "language_info": {
   "codemirror_mode": {
    "name": "ipython",
    "version": 3
   },
   "file_extension": ".py",
   "mimetype": "text/x-python",
   "name": "python",
   "nbconvert_exporter": "python",
   "pygments_lexer": "ipython3",
   "version": "3.7.3"
  }
 },
 "nbformat": 4,
 "nbformat_minor": 2
}
